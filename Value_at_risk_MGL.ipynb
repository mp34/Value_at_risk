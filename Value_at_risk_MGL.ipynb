{
 "cells": [
  {
   "cell_type": "markdown",
   "id": "f0d6c467",
   "metadata": {},
   "source": [
    "# Import packages"
   ]
  },
  {
   "cell_type": "code",
   "execution_count": 1,
   "id": "686c4fbb",
   "metadata": {},
   "outputs": [],
   "source": [
    "import pandas as pd\n",
    "import numpy as np\n",
    "import matplotlib.pyplot as plt\n",
    "import yfinance as yf\n",
    "%matplotlib inline"
   ]
  },
  {
   "cell_type": "markdown",
   "id": "a0838bfa",
   "metadata": {},
   "source": [
    "# No of Shares\n"
   ]
  },
  {
   "cell_type": "code",
   "execution_count": 4,
   "id": "5e96e486",
   "metadata": {},
   "outputs": [
    {
     "name": "stdout",
     "output_type": "stream",
     "text": [
      "MGL\n",
      "--------\n"
     ]
    },
    {
     "data": {
      "text/plain": [
       "871.9500122070312"
      ]
     },
     "execution_count": 4,
     "metadata": {},
     "output_type": "execute_result"
    }
   ],
   "source": [
    "no_of_shares = 1000\n",
    "\n",
    "#Live stock price \n",
    "price = yf.Ticker('MGL.NS')\n",
    "print(\"MGL\")\n",
    "print(\"--------\")\n",
    "price_MGL = price.history().tail(1)['Close'].iloc[0]\n",
    "price_MGL"
   ]
  },
  {
   "cell_type": "markdown",
   "id": "fd38609e",
   "metadata": {},
   "source": [
    "# Investment value"
   ]
  },
  {
   "cell_type": "code",
   "execution_count": 5,
   "id": "544dc2d9",
   "metadata": {},
   "outputs": [],
   "source": [
    "value = price_MGL * no_of_shares\n",
    "# Risk Free rate of US treasury bill\n",
    "rfr = 0.06\n",
    "#Volatility of Amazon\n",
    "vol = 0.30"
   ]
  },
  {
   "cell_type": "markdown",
   "id": "485c2674",
   "metadata": {},
   "source": [
    "# Number of simulation 50,000"
   ]
  },
  {
   "cell_type": "code",
   "execution_count": 12,
   "id": "3d7c3121",
   "metadata": {},
   "outputs": [],
   "source": [
    "simulate = 50000\n",
    "#Investment time in year \n",
    "time = 127/252"
   ]
  },
  {
   "cell_type": "markdown",
   "id": "33c7ba5f",
   "metadata": {},
   "source": [
    "# Exapmle of np.random.standard_normal function\n"
   ]
  },
  {
   "cell_type": "code",
   "execution_count": 7,
   "id": "2f4e673d",
   "metadata": {},
   "outputs": [
    {
     "data": {
      "text/plain": [
       "(array([1.000e+00, 0.000e+00, 0.000e+00, 3.000e+00, 2.000e+00, 1.000e+00,\n",
       "        4.000e+00, 7.000e+00, 4.000e+00, 1.400e+01, 1.200e+01, 2.100e+01,\n",
       "        1.400e+01, 2.400e+01, 3.400e+01, 3.600e+01, 4.500e+01, 4.500e+01,\n",
       "        6.700e+01, 7.200e+01, 1.050e+02, 1.190e+02, 1.430e+02, 1.710e+02,\n",
       "        1.960e+02, 2.160e+02, 2.910e+02, 3.000e+02, 3.790e+02, 4.140e+02,\n",
       "        4.860e+02, 5.360e+02, 6.330e+02, 6.730e+02, 7.500e+02, 7.890e+02,\n",
       "        8.780e+02, 1.001e+03, 1.050e+03, 1.111e+03, 1.160e+03, 1.250e+03,\n",
       "        1.378e+03, 1.314e+03, 1.415e+03, 1.491e+03, 1.511e+03, 1.535e+03,\n",
       "        1.587e+03, 1.621e+03, 1.593e+03, 1.555e+03, 1.636e+03, 1.487e+03,\n",
       "        1.556e+03, 1.398e+03, 1.398e+03, 1.404e+03, 1.297e+03, 1.191e+03,\n",
       "        1.124e+03, 1.023e+03, 9.620e+02, 8.750e+02, 8.170e+02, 7.950e+02,\n",
       "        6.570e+02, 5.840e+02, 5.060e+02, 4.770e+02, 4.230e+02, 3.390e+02,\n",
       "        2.980e+02, 2.990e+02, 2.190e+02, 2.160e+02, 1.890e+02, 1.450e+02,\n",
       "        1.190e+02, 1.160e+02, 8.100e+01, 6.300e+01, 4.800e+01, 5.000e+01,\n",
       "        3.500e+01, 2.800e+01, 1.800e+01, 2.100e+01, 1.000e+01, 9.000e+00,\n",
       "        7.000e+00, 9.000e+00, 4.000e+00, 4.000e+00, 1.000e+00, 1.000e+00,\n",
       "        0.000e+00, 2.000e+00, 1.000e+00, 1.000e+00]),\n",
       " array([-3.99328762, -3.91355277, -3.83381792, -3.75408306, -3.67434821,\n",
       "        -3.59461336, -3.5148785 , -3.43514365, -3.3554088 , -3.27567394,\n",
       "        -3.19593909, -3.11620424, -3.03646938, -2.95673453, -2.87699968,\n",
       "        -2.79726482, -2.71752997, -2.63779512, -2.55806026, -2.47832541,\n",
       "        -2.39859056, -2.3188557 , -2.23912085, -2.15938599, -2.07965114,\n",
       "        -1.99991629, -1.92018143, -1.84044658, -1.76071173, -1.68097687,\n",
       "        -1.60124202, -1.52150717, -1.44177231, -1.36203746, -1.28230261,\n",
       "        -1.20256775, -1.1228329 , -1.04309805, -0.96336319, -0.88362834,\n",
       "        -0.80389349, -0.72415863, -0.64442378, -0.56468893, -0.48495407,\n",
       "        -0.40521922, -0.32548437, -0.24574951, -0.16601466, -0.08627981,\n",
       "        -0.00654495,  0.0731899 ,  0.15292475,  0.23265961,  0.31239446,\n",
       "         0.39212931,  0.47186417,  0.55159902,  0.63133388,  0.71106873,\n",
       "         0.79080358,  0.87053844,  0.95027329,  1.03000814,  1.109743  ,\n",
       "         1.18947785,  1.2692127 ,  1.34894756,  1.42868241,  1.50841726,\n",
       "         1.58815212,  1.66788697,  1.74762182,  1.82735668,  1.90709153,\n",
       "         1.98682638,  2.06656124,  2.14629609,  2.22603094,  2.3057658 ,\n",
       "         2.38550065,  2.4652355 ,  2.54497036,  2.62470521,  2.70444006,\n",
       "         2.78417492,  2.86390977,  2.94364462,  3.02337948,  3.10311433,\n",
       "         3.18284919,  3.26258404,  3.34231889,  3.42205375,  3.5017886 ,\n",
       "         3.58152345,  3.66125831,  3.74099316,  3.82072801,  3.90046287,\n",
       "         3.98019772]),\n",
       " <BarContainer object of 100 artists>)"
      ]
     },
     "execution_count": 7,
     "metadata": {},
     "output_type": "execute_result"
    },
    {
     "data": {
      "image/png": "[encoded data removed]",
      "text/plain": [
       "<Figure size 432x288 with 1 Axes>"
      ]
     },
     "metadata": {
      "needs_background": "light"
     },
     "output_type": "display_data"
    }
   ],
   "source": [
    "sample = np.random.standard_normal(simulate)\n",
    "plt.hist(sample,bins  =100)"
   ]
  },
  {
   "cell_type": "code",
   "execution_count": 8,
   "id": "788cb105",
   "metadata": {},
   "outputs": [
    {
     "name": "stdout",
     "output_type": "stream",
     "text": [
      "-0.00546068456189866\n",
      "0.9976707758904213\n"
     ]
    }
   ],
   "source": [
    "print(np.mean(sample))\n",
    "print(np.std(sample))"
   ]
  },
  {
   "cell_type": "markdown",
   "id": "6341d9ec",
   "metadata": {},
   "source": [
    "# Create a function to calculae VAR(Value at Risk)"
   ]
  },
  {
   "cell_type": "code",
   "execution_count": 9,
   "id": "9df77dbc",
   "metadata": {},
   "outputs": [],
   "source": [
    "def VaR(pv,rfr,time,simulate,vol):\n",
    "    end_value = pv * np.exp((rfr - 0.5 * vol **2)*time + np.random.standard_normal(simulate) * vol * np.sqrt(time))\n",
    "    returns = end_value - pv\n",
    "    return returns\n",
    "#Apply VaR function to simulate the returns \n",
    "returns_MGL = VaR(value,rfr,time,simulate,vol)"
   ]
  },
  {
   "cell_type": "markdown",
   "id": "9cc17ec7",
   "metadata": {},
   "source": [
    "# Explain string formatting"
   ]
  },
  {
   "cell_type": "code",
   "execution_count": 10,
   "id": "c2601365",
   "metadata": {},
   "outputs": [
    {
     "name": "stdout",
     "output_type": "stream",
     "text": [
      "VaR at 90% confidence level: $3,455\n"
     ]
    }
   ],
   "source": [
    "# Print  : VaR at x% confidence level\n",
    "x = 0.9\n",
    "y = 3455.248\n",
    "\n",
    "print(\"VaR at {:.0%} confidence level: ${:,.0f}\".format(x,y))"
   ]
  },
  {
   "cell_type": "markdown",
   "id": "8c8b670d",
   "metadata": {},
   "source": [
    "# Plot the returns "
   ]
  },
  {
   "cell_type": "code",
   "execution_count": 11,
   "id": "78ff5e74",
   "metadata": {},
   "outputs": [
    {
     "name": "stdout",
     "output_type": "stream",
     "text": [
      "VaR at 90% confidence level: -203,718\n",
      "VaR at 95% confidence level: -253,054\n",
      "VaR at 99% confidence level: -336,951\n"
     ]
    },
    {
     "data": {
      "image/png": "[encoded data removed]",
      "text/plain": [
       "<Figure size 432x288 with 1 Axes>"
      ]
     },
     "metadata": {
      "needs_background": "light"
     },
     "output_type": "display_data"
    }
   ],
   "source": [
    "plt.hist(returns_MGL,bins =100);\n",
    "#show VaR at 90%,95% and 99% confidence level\n",
    "percentile = [10,5,1]\n",
    "\n",
    "for i in percentile:\n",
    "    confidence = (100-i)/100\n",
    "    value = np.percentile(returns_MGL,i)\n",
    "    print(\"VaR at {:.0%} confidence level: {:,.0f}\".format(confidence,value))\n",
    "    plt.axvline(value, color= 'red',linestyle='dashed',linewidth=1)\n"
   ]
  }
 ],
 "metadata": {
  "kernelspec": {
   "display_name": "Python 3",
   "language": "python",
   "name": "python3"
  },
  "language_info": {
   "codemirror_mode": {
    "name": "ipython",
    "version": 3
   },
   "file_extension": ".py",
   "mimetype": "text/x-python",
   "name": "python",
   "nbconvert_exporter": "python",
   "pygments_lexer": "ipython3",
   "version": "3.8.8"
  }
 },
 "nbformat": 4,
 "nbformat_minor": 5
}
